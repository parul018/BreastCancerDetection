{
  "nbformat": 4,
  "nbformat_minor": 0,
  "metadata": {
    "colab": {
      "name": "Breast Cancer Detection using CNN custom model.ipynb",
      "provenance": [],
      "collapsed_sections": []
    },
    "kernelspec": {
      "name": "python3",
      "display_name": "Python 3"
    },
    "language_info": {
      "name": "python"
    }
  },
  "cells": [
    {
      "cell_type": "code",
      "execution_count": null,
      "metadata": {
        "id": "dcxRC5VyWIKO"
      },
      "outputs": [],
      "source": [
        "import numpy as np \n",
        "import pandas as pd \n",
        "import os"
      ]
    },
    {
      "cell_type": "code",
      "source": [
        "from google.colab import files \n",
        "files.upload()"
      ],
      "metadata": {
        "colab": {
          "resources": {
            "http://localhost:8080/nbextensions/google.colab/files.js": {
              "data": "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",
              "ok": true,
              "headers": [
                [
                  "content-type",
                  "application/javascript"
                ]
              ],
              "status": 200,
              "status_text": ""
            }
          },
          "base_uri": "https://localhost:8080/",
          "height": 91
        },
        "id": "pUiSjxDMWNXM",
        "outputId": "112145a9-4598-4734-a28f-ad78b0b60984"
      },
      "execution_count": null,
      "outputs": [
        {
          "output_type": "display_data",
          "data": {
            "text/plain": [
              "<IPython.core.display.HTML object>"
            ],
            "text/html": [
              "\n",
              "     <input type=\"file\" id=\"files-e3b156a1-484f-4dc2-96c6-82a20c182fa7\" name=\"files[]\" multiple disabled\n",
              "        style=\"border:none\" />\n",
              "     <output id=\"result-e3b156a1-484f-4dc2-96c6-82a20c182fa7\">\n",
              "      Upload widget is only available when the cell has been executed in the\n",
              "      current browser session. Please rerun this cell to enable.\n",
              "      </output>\n",
              "      <script src=\"/nbextensions/google.colab/files.js\"></script> "
            ]
          },
          "metadata": {}
        },
        {
          "output_type": "stream",
          "name": "stdout",
          "text": [
            "Saving kaggle.json to kaggle (1).json\n"
          ]
        },
        {
          "output_type": "execute_result",
          "data": {
            "text/plain": [
              "{'kaggle.json': b'{\"username\":\"kunikasharma191227\",\"key\":\"d090de9dd729e73d79666c0454a9653b\"}'}"
            ]
          },
          "metadata": {},
          "execution_count": 29
        }
      ]
    },
    {
      "cell_type": "code",
      "source": [
        "!mkdir -p ~/.kaggle\n",
        "!cp \"kaggle.json\" ~/.kaggle/\n",
        "!cat ~/.kaggle/kaggle.json \n",
        "!chmod 600 ~/.kaggle/kaggle.json\n",
        "!kaggle datasets download -d paultimothymooney/breast-histopathology-images"
      ],
      "metadata": {
        "colab": {
          "base_uri": "https://localhost:8080/"
        },
        "id": "M2N6vw1CXePR",
        "outputId": "b5bb8746-d3c1-48cd-90cd-d4b1d81332f0"
      },
      "execution_count": null,
      "outputs": [
        {
          "output_type": "stream",
          "name": "stdout",
          "text": [
            "{\"username\":\"kunikasharma191227\",\"key\":\"d090de9dd729e73d79666c0454a9653b\"}breast-histopathology-images.zip: Skipping, found more recently modified local copy (use --force to force download)\n"
          ]
        }
      ]
    },
    {
      "cell_type": "code",
      "source": [
        "!unzip breast-histopathology-images.zip"
      ],
      "metadata": {
        "id": "lNc0BtNLX4Et"
      },
      "execution_count": null,
      "outputs": []
    },
    {
      "cell_type": "code",
      "source": [
        "import numpy as np\n",
        "import pandas as pd\n",
        "import matplotlib.pyplot as plt\n",
        "import cv2\n",
        "import os\n",
        "\n",
        "DATADIR = r\"/content/10264\"\n",
        "CATEGORIES = [\"0\",\"1\"]\n",
        "for category in CATEGORIES:\n",
        "    path = os.path.join(DATADIR,category)\n",
        "    for img in os.listdir(path):\n",
        "        img_array = cv2.imread(os.path.join(path,img))\n",
        "        plt.imshow(img_array)\n",
        "        plt.show()\n",
        "        plt.axis(\"off\")\n",
        "        break\n",
        "    break"
      ],
      "metadata": {
        "colab": {
          "base_uri": "https://localhost:8080/",
          "height": 498
        },
        "id": "7kBLQdDYYEFh",
        "outputId": "7aea2419-a3c9-4c1d-f8b2-18f078fec68f"
      },
      "execution_count": null,
      "outputs": [
        {
          "output_type": "display_data",
          "data": {
            "text/plain": [
              "<Figure size 432x288 with 1 Axes>"
            ],
            "image/png": "[encoded data removed]"
          },
          "metadata": {
            "needs_background": "light"
          }
        },
        {
          "output_type": "display_data",
          "data": {
            "text/plain": [
              "<Figure size 432x288 with 1 Axes>"
            ],
            "image/png": "[encoded data removed]"
          },
          "metadata": {
            "needs_background": "light"
          }
        }
      ]
    },
    {
      "cell_type": "code",
      "source": [
        "img_array.shape\n",
        "\n"
      ],
      "metadata": {
        "colab": {
          "base_uri": "https://localhost:8080/"
        },
        "id": "fWIGbecb1r7P",
        "outputId": "b91e8e3d-13ec-48e6-c8a0-6b7daaefa145"
      },
      "execution_count": null,
      "outputs": [
        {
          "output_type": "execute_result",
          "data": {
            "text/plain": [
              "(50, 50, 3)"
            ]
          },
          "metadata": {},
          "execution_count": 12
        }
      ]
    },
    {
      "cell_type": "code",
      "source": [
        "from numpy import asarray\n",
        "\n",
        "pixels = asarray(img_array)\n",
        "# confirm pixel range is 0-255\n",
        "print('Data Type: %s' % pixels.dtype)\n",
        "print('Min: %.3f, Max: %.3f' % (pixels.min(), pixels.max()))\n",
        "# convert from integers to floats\n",
        "pixels = pixels.astype('float32')\n",
        "# normalize to the range 0-1\n",
        "pixels /= 255.0\n",
        "# confirm the normalization\n",
        "print('Min: %.3f, Max: %.3f' % (pixels.min(), pixels.max()))"
      ],
      "metadata": {
        "colab": {
          "base_uri": "https://localhost:8080/"
        },
        "id": "glOGwF862QM-",
        "outputId": "c4ee0052-4769-48e5-c12f-68fd8fc26d18"
      },
      "execution_count": null,
      "outputs": [
        {
          "output_type": "stream",
          "name": "stdout",
          "text": [
            "Data Type: uint8\n",
            "Min: 48.000, Max: 244.000\n",
            "Min: 0.188, Max: 0.957\n"
          ]
        }
      ]
    },
    {
      "cell_type": "code",
      "source": [
        "#calculates the global mean and standard deviation pixel values, standardizes the pixel values,\n",
        "#then confirms the transform by reporting the new global mean and standard deviation of 0.0 and 1.0 respectively.\n",
        "\n",
        "pixels = asarray(img_array)\n",
        "# convert from integers to floats\n",
        "pixels = pixels.astype('float32')\n",
        "# calculate global mean and standard deviation\n",
        "mean, std = pixels.mean(), pixels.std()\n",
        "print('Mean: %.3f, Standard Deviation: %.3f' % (mean, std))\n",
        "# global standardization of pixels\n",
        "pixels = (pixels - mean) / std\n",
        "# confirm it had the desired effect\n",
        "mean, std = pixels.mean(), pixels.std()\n",
        "print('Mean: %.3f, Standard Deviation: %.3f' % (mean, std))"
      ],
      "metadata": {
        "colab": {
          "base_uri": "https://localhost:8080/"
        },
        "id": "QQTXmWngHt-s",
        "outputId": "a04714b8-01ef-4517-b733-4a0ac62ed29f"
      },
      "execution_count": null,
      "outputs": [
        {
          "output_type": "stream",
          "name": "stdout",
          "text": [
            "Mean: 185.263, Standard Deviation: 33.268\n",
            "Mean: 0.000, Standard Deviation: 1.000\n"
          ]
        }
      ]
    },
    {
      "cell_type": "code",
      "source": [
        "IMG_SIZE = 50;\n",
        "new_array = cv2.resize(img_array,(IMG_SIZE,IMG_SIZE))    \n",
        "plt.imshow(new_array,cmap = \"gray\")\n",
        "plt.axis(\"off\")\n"
      ],
      "metadata": {
        "colab": {
          "base_uri": "https://localhost:8080/",
          "height": 265
        },
        "id": "LasFbq7BZDHw",
        "outputId": "72b9a605-2acc-4c23-e2a3-d5f0952fbbe8"
      },
      "execution_count": null,
      "outputs": [
        {
          "output_type": "execute_result",
          "data": {
            "text/plain": [
              "(-0.5, 149.5, 149.5, -0.5)"
            ]
          },
          "metadata": {},
          "execution_count": 7
        },
        {
          "output_type": "display_data",
          "data": {
            "text/plain": [
              "<Figure size 432x288 with 1 Axes>"
            ],
            "image/png": "[encoded data removed]"
          },
          "metadata": {
            "needs_background": "light"
          }
        }
      ]
    },
    {
      "cell_type": "code",
      "source": [
        "training_data = []\n",
        "\n",
        "def create_training_data():\n",
        "    for category in CATEGORIES:\n",
        "        path = os.path.join(DATADIR,category)\n",
        "        class_num = CATEGORIES.index(category)\n",
        "        for img in os.listdir(path):\n",
        "            try:\n",
        "                img_array = cv2.imread(os.path.join(path,img),cv2.IMREAD_GRAYSCALE)\n",
        "                new_array = cv2.resize(img_array,(IMG_SIZE,IMG_SIZE)) \n",
        "                training_data.append([new_array,class_num])\n",
        "            except Exception as e:\n",
        "                pass\n",
        "create_training_data()"
      ],
      "metadata": {
        "id": "K9p2Gam9ZI5i"
      },
      "execution_count": null,
      "outputs": []
    },
    {
      "cell_type": "code",
      "source": [
        "X = []\n",
        "y = []\n",
        "for features,label in training_data:\n",
        "    X.append(features)\n",
        "    y.append(label)\n",
        "X = np.array(X).reshape(-1,IMG_SIZE,IMG_SIZE)\n",
        "print(X.shape)\n",
        "X = X/255.0  \n",
        "X = X.reshape(-1,150,150,1)"
      ],
      "metadata": {
        "colab": {
          "base_uri": "https://localhost:8080/"
        },
        "id": "39SV1DcfZNY2",
        "outputId": "c462acd9-9cd0-48b0-8f42-9022d1bba5f9"
      },
      "execution_count": null,
      "outputs": [
        {
          "output_type": "stream",
          "name": "stdout",
          "text": [
            "(1204, 150, 150)\n"
          ]
        }
      ]
    },
    {
      "cell_type": "code",
      "source": [
        "from keras.utils.np_utils import to_categorical # convert to one-hot-encoding\n",
        "y = to_categorical(y, num_classes = 2)"
      ],
      "metadata": {
        "id": "xkldbVwoZQUg"
      },
      "execution_count": null,
      "outputs": []
    },
    {
      "cell_type": "code",
      "source": [
        "from sklearn.model_selection import train_test_split\n",
        "X_train, X_val, Y_train, Y_val = train_test_split(X, y, test_size = 0.2, random_state=42)\n",
        "print(\"x_train shape\",X_train.shape)\n",
        "print(\"x_test shape\",X_val.shape)\n",
        "print(\"y_train shape\",Y_train.shape)\n",
        "print(\"y_test shape\",Y_val.shape)"
      ],
      "metadata": {
        "colab": {
          "base_uri": "https://localhost:8080/"
        },
        "id": "tcUj8P6IZTlu",
        "outputId": "c6c1696d-14c7-4849-e211-9e327858c612"
      },
      "execution_count": null,
      "outputs": [
        {
          "output_type": "stream",
          "name": "stdout",
          "text": [
            "x_train shape (963, 150, 150, 1)\n",
            "x_test shape (241, 150, 150, 1)\n",
            "y_train shape (963, 4)\n",
            "y_test shape (241, 4)\n"
          ]
        }
      ]
    },
    {
      "cell_type": "code",
      "source": [
        "from sklearn.metrics import confusion_matrix\n",
        "import itertools\n",
        "\n",
        "from keras.utils.np_utils import to_categorical \n",
        "from keras.models import Sequential\n",
        "from keras.layers import Dense, Dropout, Flatten, Conv2D, MaxPool2D\n",
        "from tensorflow.keras.optimizers import Adam\n",
        "from keras.preprocessing.image import ImageDataGenerator\n",
        "from keras.callbacks import ReduceLROnPlateau\n",
        "\n",
        "model = Sequential()\n",
        "\n",
        "model.add(Conv2D(filters = 64, kernel_size = (5,5),padding = 'Same', \n",
        "                 activation ='relu', input_shape = (150,150,1)))\n",
        "model.add(MaxPool2D(pool_size=(2,2)))\n",
        "model.add(Dropout(0.25))\n",
        "\n",
        "model.add(Conv2D(filters = 128, kernel_size = (3,3),padding = 'Same', \n",
        "                 activation ='relu'))\n",
        "model.add(MaxPool2D(pool_size=(2,2), strides=(2,2)))\n",
        "model.add(Dropout(0.25))\n",
        "\n",
        "model.add(Conv2D(filters = 128, kernel_size = (3,3),padding = 'Same', \n",
        "                 activation ='relu'))\n",
        "model.add(MaxPool2D(pool_size=(2,2), strides=(2,2)))\n",
        "model.add(Dropout(0.3))\n",
        "\n",
        "model.add(Conv2D(filters = 128, kernel_size = (2,2),padding = 'Same', \n",
        "                 activation ='relu'))\n",
        "model.add(MaxPool2D(pool_size=(2,2), strides=(2,2)))\n",
        "model.add(Dropout(0.3))\n",
        "\n",
        "\n",
        "model.add(Conv2D(filters = 256, kernel_size = (2,2),padding = 'Same', \n",
        "                 activation ='relu'))\n",
        "model.add(MaxPool2D(pool_size=(2,2), strides=(2,2)))\n",
        "model.add(Dropout(0.3))\n",
        "\n",
        "\n",
        "model.add(Flatten())\n",
        "model.add(Dense(1024, activation = \"relu\"))\n",
        "model.add(Dropout(0.5))\n",
        "model.add(Dense(4, activation = \"softmax\"))\n",
        "optimizer = Adam(lr=0.0001, beta_1=0.9, beta_2=0.999)\n",
        "model.compile(optimizer = optimizer , loss = \"categorical_crossentropy\", metrics=[\"accuracy\"])\n"
      ],
      "metadata": {
        "colab": {
          "base_uri": "https://localhost:8080/"
        },
        "id": "lHRFdRGzZgmf",
        "outputId": "9e7cbab3-cb78-4373-c216-518bb35b6fed"
      },
      "execution_count": null,
      "outputs": [
        {
          "output_type": "stream",
          "name": "stderr",
          "text": [
            "/usr/local/lib/python3.7/dist-packages/keras/optimizer_v2/adam.py:105: UserWarning: The `lr` argument is deprecated, use `learning_rate` instead.\n",
            "  super(Adam, self).__init__(name, **kwargs)\n"
          ]
        }
      ]
    },
    {
      "cell_type": "code",
      "source": [
        "datagen = ImageDataGenerator(\n",
        "        featurewise_center=False,  \n",
        "        samplewise_center=False, \n",
        "        featurewise_std_normalization=False,  \n",
        "        samplewise_std_normalization=False,  \n",
        "        zca_whitening=False,  \n",
        "        rotation_range=0,\n",
        "        zoom_range = 0,\n",
        "        width_shift_range=0,  \n",
        "        height_shift_range=0,  \n",
        "        horizontal_flip=True,  \n",
        "        vertical_flip=False)  \n"
      ],
      "metadata": {
        "id": "rRvGg9FuZkYY"
      },
      "execution_count": null,
      "outputs": []
    },
    {
      "cell_type": "code",
      "source": [
        "epochs = 40  \n",
        "batch_size = 24"
      ],
      "metadata": {
        "id": "BJyohNaIZnQf"
      },
      "execution_count": null,
      "outputs": []
    },
    {
      "cell_type": "code",
      "source": [
        "datagen.fit(X_train)\n",
        "history = model.fit_generator(datagen.flow(X_train,Y_train, batch_size=batch_size),\n",
        "                              epochs = epochs, validation_data = (X_val,Y_val),\n",
        "                              steps_per_epoch = X_train.shape[0] // batch_size)    "
      ],
      "metadata": {
        "colab": {
          "base_uri": "https://localhost:8080/"
        },
        "id": "sxMEdHjoZrDD",
        "outputId": "db63d138-3eaa-4035-ab9a-0fa14b86319b"
      },
      "execution_count": null,
      "outputs": [
        {
          "output_type": "stream",
          "name": "stderr",
          "text": [
            "/usr/local/lib/python3.7/dist-packages/ipykernel_launcher.py:4: UserWarning: `Model.fit_generator` is deprecated and will be removed in a future version. Please use `Model.fit`, which supports generators.\n",
            "  after removing the cwd from sys.path.\n"
          ]
        },
        {
          "output_type": "stream",
          "name": "stdout",
          "text": [
            "Epoch 1/40\n",
            "24/24 [==============================] - 117s 5s/step - loss: 0.8276 - accuracy: 0.4865 - val_loss: 0.9694 - val_accuracy: 0.4274\n",
            "Epoch 2/40\n",
            "24/24 [==============================] - 111s 5s/step - loss: 0.6739 - accuracy: 0.5504 - val_loss: 0.8543 - val_accuracy: 0.4274\n",
            "Epoch 3/40\n",
            "24/24 [==============================] - 111s 5s/step - loss: 0.4969 - accuracy: 0.8277 - val_loss: 1.4134 - val_accuracy: 0.4274\n",
            "Epoch 4/40\n",
            "24/24 [==============================] - 110s 5s/step - loss: 0.3464 - accuracy: 0.8765 - val_loss: 1.0824 - val_accuracy: 0.5602\n",
            "Epoch 5/40\n",
            "24/24 [==============================] - 110s 5s/step - loss: 0.3103 - accuracy: 0.8971 - val_loss: 1.4675 - val_accuracy: 0.4647\n",
            "Epoch 6/40\n",
            "24/24 [==============================] - 113s 5s/step - loss: 0.2829 - accuracy: 0.9101 - val_loss: 1.3255 - val_accuracy: 0.5643\n",
            "Epoch 7/40\n",
            "24/24 [==============================] - 113s 5s/step - loss: 0.4663 - accuracy: 0.7551 - val_loss: 1.2633 - val_accuracy: 0.5145\n",
            "Epoch 8/40\n",
            "24/24 [==============================] - 111s 5s/step - loss: 0.3163 - accuracy: 0.8852 - val_loss: 1.4919 - val_accuracy: 0.4772\n",
            "Epoch 9/40\n",
            "24/24 [==============================] - 111s 5s/step - loss: 0.3031 - accuracy: 0.9014 - val_loss: 0.8843 - val_accuracy: 0.6473\n",
            "Epoch 10/40\n",
            "24/24 [==============================] - 110s 5s/step - loss: 0.2839 - accuracy: 0.9057 - val_loss: 1.0174 - val_accuracy: 0.6224\n",
            "Epoch 11/40\n",
            "24/24 [==============================] - 114s 5s/step - loss: 0.2585 - accuracy: 0.9177 - val_loss: 1.2165 - val_accuracy: 0.6100\n",
            "Epoch 12/40\n",
            "24/24 [==============================] - 110s 5s/step - loss: 0.2567 - accuracy: 0.9155 - val_loss: 1.3050 - val_accuracy: 0.5685\n",
            "Epoch 13/40\n",
            "24/24 [==============================] - 109s 5s/step - loss: 0.3512 - accuracy: 0.8570 - val_loss: 1.1402 - val_accuracy: 0.5685\n",
            "Epoch 14/40\n",
            "24/24 [==============================] - 109s 5s/step - loss: 0.2677 - accuracy: 0.9198 - val_loss: 1.3417 - val_accuracy: 0.5311\n",
            "Epoch 15/40\n",
            "24/24 [==============================] - 109s 5s/step - loss: 0.2852 - accuracy: 0.8895 - val_loss: 1.3397 - val_accuracy: 0.5768\n",
            "Epoch 16/40\n",
            "24/24 [==============================] - 109s 5s/step - loss: 0.2635 - accuracy: 0.9101 - val_loss: 0.4727 - val_accuracy: 0.8091\n",
            "Epoch 17/40\n",
            "24/24 [==============================] - 109s 5s/step - loss: 0.2608 - accuracy: 0.9101 - val_loss: 0.8223 - val_accuracy: 0.6639\n",
            "Epoch 18/40\n",
            "24/24 [==============================] - 110s 5s/step - loss: 0.2298 - accuracy: 0.9231 - val_loss: 0.8627 - val_accuracy: 0.6763\n",
            "Epoch 19/40\n",
            "24/24 [==============================] - 109s 5s/step - loss: 0.2862 - accuracy: 0.8862 - val_loss: 0.8963 - val_accuracy: 0.6100\n",
            "Epoch 20/40\n",
            "24/24 [==============================] - 109s 5s/step - loss: 0.3092 - accuracy: 0.9036 - val_loss: 1.0708 - val_accuracy: 0.5851\n",
            "Epoch 21/40\n",
            "24/24 [==============================] - 109s 5s/step - loss: 0.2748 - accuracy: 0.9047 - val_loss: 0.8062 - val_accuracy: 0.6390\n",
            "Epoch 22/40\n",
            "24/24 [==============================] - 110s 5s/step - loss: 0.2334 - accuracy: 0.9187 - val_loss: 1.3093 - val_accuracy: 0.5975\n",
            "Epoch 23/40\n",
            "24/24 [==============================] - 113s 5s/step - loss: 0.2235 - accuracy: 0.9209 - val_loss: 0.9920 - val_accuracy: 0.6390\n",
            "Epoch 24/40\n",
            "24/24 [==============================] - 109s 5s/step - loss: 0.2316 - accuracy: 0.9155 - val_loss: 1.0407 - val_accuracy: 0.6307\n",
            "Epoch 25/40\n",
            "24/24 [==============================] - 110s 5s/step - loss: 0.2228 - accuracy: 0.9231 - val_loss: 0.9278 - val_accuracy: 0.6432\n",
            "Epoch 26/40\n",
            "24/24 [==============================] - 110s 5s/step - loss: 0.2269 - accuracy: 0.9263 - val_loss: 1.2085 - val_accuracy: 0.5934\n",
            "Epoch 27/40\n",
            "24/24 [==============================] - 110s 5s/step - loss: 0.2165 - accuracy: 0.9220 - val_loss: 1.3078 - val_accuracy: 0.5685\n",
            "Epoch 28/40\n",
            "24/24 [==============================] - 109s 5s/step - loss: 0.2224 - accuracy: 0.9231 - val_loss: 0.8925 - val_accuracy: 0.6266\n",
            "Epoch 29/40\n",
            "24/24 [==============================] - 109s 5s/step - loss: 0.2259 - accuracy: 0.9242 - val_loss: 0.7613 - val_accuracy: 0.6846\n",
            "Epoch 30/40\n",
            "24/24 [==============================] - 109s 5s/step - loss: 0.2126 - accuracy: 0.9274 - val_loss: 0.9396 - val_accuracy: 0.6266\n",
            "Epoch 31/40\n",
            "24/24 [==============================] - 109s 5s/step - loss: 0.2524 - accuracy: 0.9090 - val_loss: 0.8100 - val_accuracy: 0.6307\n",
            "Epoch 32/40\n",
            "24/24 [==============================] - 109s 5s/step - loss: 0.2047 - accuracy: 0.9285 - val_loss: 0.7698 - val_accuracy: 0.6598\n",
            "Epoch 33/40\n",
            "24/24 [==============================] - 110s 5s/step - loss: 0.2252 - accuracy: 0.9187 - val_loss: 0.8806 - val_accuracy: 0.6390\n",
            "Epoch 34/40\n",
            "24/24 [==============================] - 109s 5s/step - loss: 0.2593 - accuracy: 0.9025 - val_loss: 0.8456 - val_accuracy: 0.6058\n",
            "Epoch 35/40\n",
            "24/24 [==============================] - 110s 5s/step - loss: 0.1993 - accuracy: 0.9285 - val_loss: 0.7456 - val_accuracy: 0.6722\n",
            "Epoch 36/40\n",
            "24/24 [==============================] - 109s 5s/step - loss: 0.2170 - accuracy: 0.9263 - val_loss: 0.8056 - val_accuracy: 0.6473\n",
            "Epoch 37/40\n",
            "24/24 [==============================] - 109s 5s/step - loss: 0.2108 - accuracy: 0.9328 - val_loss: 0.5259 - val_accuracy: 0.7344\n",
            "Epoch 38/40\n",
            "24/24 [==============================] - 109s 5s/step - loss: 0.2263 - accuracy: 0.9220 - val_loss: 0.4375 - val_accuracy: 0.7884\n",
            "Epoch 39/40\n",
            "24/24 [==============================] - 109s 5s/step - loss: 0.3435 - accuracy: 0.8602 - val_loss: 0.4483 - val_accuracy: 0.7510\n",
            "Epoch 40/40\n",
            "24/24 [==============================] - 114s 5s/step - loss: 0.2324 - accuracy: 0.9146 - val_loss: 0.7679 - val_accuracy: 0.6971\n"
          ]
        }
      ]
    },
    {
      "cell_type": "code",
      "source": [
        "plt.plot(history.history[\"loss\"],c = \"purple\")\n",
        "plt.plot(history.history[\"val_loss\"],c = \"orange\")\n",
        "plt.title(\"Loss\")\n",
        "plt.ylabel(\"Loss\")\n",
        "plt.xlabel(\"Epochs\")\n",
        "plt.legend([\"train\", \"test\"])\n",
        "plt.show()"
      ],
      "metadata": {
        "colab": {
          "base_uri": "https://localhost:8080/",
          "height": 295
        },
        "id": "vptqCXvsysHu",
        "outputId": "b985c92d-de42-4e04-cff2-ae317c68d084"
      },
      "execution_count": null,
      "outputs": [
        {
          "output_type": "display_data",
          "data": {
            "text/plain": [
              "<Figure size 432x288 with 1 Axes>"
            ],
            "image/png": "[encoded data removed]"
          },
          "metadata": {
            "needs_background": "light"
          }
        }
      ]
    },
    {
      "cell_type": "code",
      "source": [
        "plt.plot(history.history[\"accuracy\"],c = \"purple\")\n",
        "plt.plot(history.history[\"val_accuracy\"],c = \"orange\")\n",
        "plt.title(\"Accuracy\")\n",
        "plt.ylabel(\"Accuracy\")\n",
        "plt.xlabel(\"Epochs\")\n",
        "plt.legend([\"train\", \"test\"])\n",
        "plt.show()"
      ],
      "metadata": {
        "colab": {
          "base_uri": "https://localhost:8080/",
          "height": 295
        },
        "id": "ejXqZOSWyvf0",
        "outputId": "fefcaa4b-e7f0-4e37-df5e-462689f60c6e"
      },
      "execution_count": null,
      "outputs": [
        {
          "output_type": "display_data",
          "data": {
            "text/plain": [
              "<Figure size 432x288 with 1 Axes>"
            ],
            "image/png": "[encoded data removed]"
          },
          "metadata": {
            "needs_background": "light"
          }
        }
      ]
    },
    {
      "cell_type": "code",
      "source": [
        "pred = model.predict(X_val)\n",
        "print(pred[0:3,:])"
      ],
      "metadata": {
        "colab": {
          "base_uri": "https://localhost:8080/"
        },
        "id": "DUDhfNciyzHM",
        "outputId": "ec7f491f-92b5-4163-c35a-070571f651db"
      },
      "execution_count": null,
      "outputs": [
        {
          "output_type": "stream",
          "name": "stdout",
          "text": [
            "[[1.3112086e-01 8.6876273e-01 6.6080691e-05 5.0372226e-05]\n",
            " [5.8978951e-01 4.0967366e-01 2.7399848e-04 2.6287677e-04]\n",
            " [5.0559822e-02 9.4942760e-01 6.8736822e-06 5.6617778e-06]]\n"
          ]
        }
      ]
    },
    {
      "cell_type": "code",
      "source": [
        "temp = np.argmax(pred, axis = 1)\n",
        "pred = np.zeros(pred.shape)\n",
        "pred[np.arange(pred.shape[0]), temp] = 1\n",
        "print(pred[0:3,:])\n",
        "print(Y_val[0:3,:])"
      ],
      "metadata": {
        "colab": {
          "base_uri": "https://localhost:8080/"
        },
        "id": "PeKRIgmYy3rq",
        "outputId": "fb555396-e7e0-4870-b5c8-e460e22e48ca"
      },
      "execution_count": null,
      "outputs": [
        {
          "output_type": "stream",
          "name": "stdout",
          "text": [
            "[[0. 1. 0. 0.]\n",
            " [1. 0. 0. 0.]\n",
            " [0. 1. 0. 0.]]\n",
            "[[1. 0. 0. 0.]\n",
            " [1. 0. 0. 0.]\n",
            " [0. 1. 0. 0.]]\n"
          ]
        }
      ]
    },
    {
      "cell_type": "code",
      "source": [
        "from sklearn.metrics import accuracy_score, classification_report\n",
        "print('Accuracy : ' + str(accuracy_score(Y_val, pred)))\n",
        "print(classification_report(Y_val, pred, target_names = ['glioma_tumor', 'meningioma_tumor', 'no_tumor', 'pituitary_tumor']))"
      ],
      "metadata": {
        "colab": {
          "base_uri": "https://localhost:8080/"
        },
        "id": "DC5a8APiy5_b",
        "outputId": "e0a1e5e6-d607-4c9c-da3e-24f6946bbfd7"
      },
      "execution_count": null,
      "outputs": [
        {
          "output_type": "stream",
          "name": "stdout",
          "text": [
            "Accuracy : 0.6970954356846473\n",
            "                  precision    recall  f1-score   support\n",
            "\n",
            "    glioma_tumor       0.97      0.49      0.65       138\n",
            "meningioma_tumor       0.59      0.98      0.73       103\n",
            "        no_tumor       0.00      0.00      0.00         0\n",
            " pituitary_tumor       0.00      0.00      0.00         0\n",
            "\n",
            "       micro avg       0.70      0.70      0.70       241\n",
            "       macro avg       0.39      0.37      0.35       241\n",
            "    weighted avg       0.81      0.70      0.68       241\n",
            "     samples avg       0.70      0.70      0.70       241\n",
            "\n"
          ]
        },
        {
          "output_type": "stream",
          "name": "stderr",
          "text": [
            "/usr/local/lib/python3.7/dist-packages/sklearn/metrics/_classification.py:1318: UndefinedMetricWarning: Precision and F-score are ill-defined and being set to 0.0 in labels with no predicted samples. Use `zero_division` parameter to control this behavior.\n",
            "  _warn_prf(average, modifier, msg_start, len(result))\n",
            "/usr/local/lib/python3.7/dist-packages/sklearn/metrics/_classification.py:1318: UndefinedMetricWarning: Recall and F-score are ill-defined and being set to 0.0 in labels with no true samples. Use `zero_division` parameter to control this behavior.\n",
            "  _warn_prf(average, modifier, msg_start, len(result))\n"
          ]
        }
      ]
    },
    {
      "cell_type": "code",
      "source": [
        "# serialize model to JSON\n",
        "from keras.models import model_from_json\n",
        "model_json = model.to_json()\n",
        "with open(\"model.json\", \"w\") as json_file:\n",
        "    json_file.write(model_json)"
      ],
      "metadata": {
        "id": "bK825KiNy9zj"
      },
      "execution_count": null,
      "outputs": []
    },
    {
      "cell_type": "code",
      "source": [
        "# serialize weights to HDF5\n",
        "model.save_weights(\"model.h5\")\n",
        "print(\"Saved model to disk\")"
      ],
      "metadata": {
        "colab": {
          "base_uri": "https://localhost:8080/"
        },
        "id": "M1Z8mBA5y_3x",
        "outputId": "6f42f928-4cae-4725-bd64-9a38c6ed7dae"
      },
      "execution_count": null,
      "outputs": [
        {
          "output_type": "stream",
          "name": "stdout",
          "text": [
            "Saved model to disk\n"
          ]
        }
      ]
    },
    {
      "cell_type": "code",
      "source": [
        "json_file = open('/content/model.json', 'r')\n",
        "loaded_model_json = json_file.read()\n",
        "json_file.close()\n",
        "loaded_model = model_from_json(loaded_model_json)\n",
        "\n",
        "loaded_model.load_weights(\"/content/model.h5\")\n",
        "print(\"Loaded model from disk\")"
      ],
      "metadata": {
        "colab": {
          "base_uri": "https://localhost:8080/"
        },
        "id": "Jp2celdZzCw8",
        "outputId": "2052adf2-14cb-4f8b-a987-4b50a3ecaddc"
      },
      "execution_count": null,
      "outputs": [
        {
          "output_type": "stream",
          "name": "stdout",
          "text": [
            "Loaded model from disk\n"
          ]
        }
      ]
    },
    {
      "cell_type": "code",
      "source": [
        "loaded_model.compile(loss='binary_crossentropy', optimizer='adam', metrics=['accuracy'])\n",
        "score = loaded_model.evaluate(X_val, Y_val, verbose=0)\n",
        "print(\"%s: %.2f%%\" % (loaded_model.metrics_names[1], score[1]*100))"
      ],
      "metadata": {
        "colab": {
          "base_uri": "https://localhost:8080/"
        },
        "id": "bd5OO69WzE_i",
        "outputId": "3bb824f5-ec6c-459b-82b8-1628099ea682"
      },
      "execution_count": null,
      "outputs": [
        {
          "output_type": "stream",
          "name": "stdout",
          "text": [
            "accuracy: 69.71%\n"
          ]
        }
      ]
    }
  ]
}